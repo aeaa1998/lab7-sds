{
 "cells": [
  {
   "cell_type": "code",
   "execution_count": 1,
   "id": "b63fcc3e",
   "metadata": {},
   "outputs": [],
   "source": [
    "import numpy as np\n",
    "import matplotlib.pyplot as plt\n",
    "from keras.models import Sequential\n",
    "from keras.layers import Dense, Flatten, Conv2D, MaxPooling2D, Flatten, InputLayer, Reshape\n",
    "import PIL\n",
    "from PIL import Image\n",
    "import tensorflow as tf\n",
    "from tensorflow import keras\n",
    "from sklearn.model_selection import train_test_split\n",
    "import os"
   ]
  },
  {
   "cell_type": "code",
   "execution_count": 30,
   "id": "78aad093",
   "metadata": {},
   "outputs": [],
   "source": [
    "def get_model(num_classes=25, c1=32, c2=64, d1=128, shape=(200,200, 3)):\n",
    "    model = Sequential()\n",
    "    model.add(Conv2D(c1, kernel_size=(3, 3), activation='relu', input_shape=shape))\n",
    "    model.add(Conv2D(c2, (3, 3), activation='relu'))\n",
    "    model.add(MaxPooling2D(pool_size=(2, 2)))\n",
    "    model.add(Flatten(input_shape=shape))\n",
    "    model.add(Dense(d1, activation='relu'))\n",
    "    model.add(Dense(num_classes, activation='softmax'))\n",
    "    model.compile(loss=keras.losses.categorical_crossentropy, optimizer=\"sgd\",\n",
    "                          metrics=['accuracy'])\n",
    "    return model"
   ]
  },
  {
   "cell_type": "code",
   "execution_count": 3,
   "id": "7821e7bf",
   "metadata": {},
   "outputs": [
    {
     "name": "stdout",
     "output_type": "stream",
     "text": [
      "./resized/Swizzor.gen!I\n",
      "./resized/Instantaccess\n",
      "./resized/Dialplatform.B\n",
      "./resized/Autorun.K\n",
      "./resized/Dontovo.A\n",
      "./resized/C2LOP.gen!g\n",
      "./resized/C2LOP.P\n",
      "./resized/Lolyda.AA1\n",
      "./resized/Lolyda.AT\n",
      "./resized/Adialer.C\n",
      "./resized/Fakerean\n",
      "./resized/Rbot!gen\n",
      "./resized/Allaple.A\n",
      "./resized/VB.AT\n",
      "./resized/Yuner.A\n",
      "./resized/Malex.gen!J\n",
      "./resized/Swizzor.gen!E\n",
      "./resized/Agent.FYI\n",
      "./resized/Skintrim.N\n",
      "./resized/Obfuscator.AD\n",
      "./resized/Lolyda.AA2\n",
      "./resized/Lolyda.AA3\n",
      "./resized/Wintrim.BX\n",
      "./resized/Allaple.L\n",
      "./resized/Alueron.gen!J\n"
     ]
    }
   ],
   "source": [
    "directories = []\n",
    "base_path = \"./resized/\"\n",
    "for x in os.walk(base_path):\n",
    "    if x[0] != base_path:\n",
    "        directories.append(x[0])\n",
    "        print(x[0])"
   ]
  },
  {
   "cell_type": "code",
   "execution_count": 39,
   "id": "9d4af83e",
   "metadata": {},
   "outputs": [],
   "source": [
    "families_mapped = {}\n",
    "for directory in directories:\n",
    "    family = directory[len(base_path):]\n",
    "    files = []\n",
    "    for walk in os.walk(directory):\n",
    "        for fileName in walk[2]:\n",
    "            load_image = np.array(tf.keras.preprocessing.image.load_img(directory+\"/\"+fileName))/255.0\n",
    "            files.append(load_image)\n",
    "            #print(directory+\"/\"+fileName)\n",
    "    families_mapped[family] = files\n",
    "    "
   ]
  },
  {
   "cell_type": "code",
   "execution_count": 5,
   "id": "948663bb",
   "metadata": {},
   "outputs": [],
   "source": [
    "# fashion_mnist = keras.datasets.fashion_mnist\n",
    "# (train_images, train_labels), (test_images, test_labels) = fashion_mnist.load_data()\n",
    "# np.array(families_mapped['Swizzor.gen!I'][0])"
   ]
  },
  {
   "cell_type": "code",
   "execution_count": 40,
   "id": "682189bd",
   "metadata": {},
   "outputs": [
    {
     "name": "stdout",
     "output_type": "stream",
     "text": [
      "Procesando index  0\n",
      "Procesando index  1\n",
      "Procesando index  2\n",
      "Procesando index  3\n",
      "Procesando index  4\n",
      "Procesando index  5\n",
      "Procesando index  6\n",
      "Procesando index  7\n",
      "Procesando index  8\n",
      "Procesando index  9\n",
      "Procesando index  10\n",
      "Procesando index  11\n",
      "Procesando index  12\n",
      "Procesando index  13\n",
      "Procesando index  14\n",
      "Procesando index  15\n",
      "Procesando index  16\n",
      "Procesando index  17\n",
      "Procesando index  18\n",
      "Procesando index  19\n",
      "Procesando index  20\n",
      "Procesando index  21\n",
      "Procesando index  22\n",
      "Procesando index  23\n",
      "Procesando index  24\n"
     ]
    }
   ],
   "source": [
    "classes_mapped = {}\n",
    "images_resized = []\n",
    "labels = []\n",
    "for index, class_name in enumerate(families_mapped):\n",
    "    print(\"Procesando index \", index)\n",
    "    classes_mapped[index] = class_name\n",
    "    for image in families_mapped[class_name]:\n",
    "        images_resized.append(image)\n",
    "        values = np.zeros(25)\n",
    "        values[index] = 1\n",
    "        labels.append(values)\n",
    "\n",
    "  "
   ]
  },
  {
   "cell_type": "code",
   "execution_count": 7,
   "id": "05e0d3bb",
   "metadata": {},
   "outputs": [],
   "source": [
    "# print(np.array(images_resized).shape)\n",
    "# print(np.array(labels).shape)\n",
    "families_mapped = None"
   ]
  },
  {
   "cell_type": "code",
   "execution_count": 41,
   "id": "52b13e1e",
   "metadata": {},
   "outputs": [
    {
     "name": "stdout",
     "output_type": "stream",
     "text": [
      "9339\n",
      "200\n",
      "200\n"
     ]
    }
   ],
   "source": [
    "print(len(images_resized))\n",
    "print(len(images_resized[0]))\n",
    "print(len(images_resized[0][0]))"
   ]
  },
  {
   "cell_type": "code",
   "execution_count": 42,
   "id": "bd889bef",
   "metadata": {},
   "outputs": [],
   "source": [
    "X_train, X_test, y_train, y_test  = train_test_split(images_resized, labels, train_size = 0.75, random_state= 123)"
   ]
  },
  {
   "cell_type": "code",
   "execution_count": 43,
   "id": "38e2cd04",
   "metadata": {},
   "outputs": [],
   "source": [
    "X_train = np.array(X_train)\n",
    "X_test = np.array(X_test)\n",
    "y_train = np.array(y_train)\n",
    "y_test = np.array(y_test)"
   ]
  },
  {
   "cell_type": "code",
   "execution_count": 57,
   "id": "b7018f3e",
   "metadata": {},
   "outputs": [
    {
     "name": "stdout",
     "output_type": "stream",
     "text": [
      "(7004, 25)\n",
      "(7004, 200, 200, 3)\n"
     ]
    }
   ],
   "source": [
    "print(y_train.shape)\n",
    "print(X_train.shape)"
   ]
  },
  {
   "cell_type": "code",
   "execution_count": 46,
   "id": "971bb4ca",
   "metadata": {},
   "outputs": [],
   "source": [
    "# Train the original model.\n",
    "num_epochs = 8\n",
    "model = get_model(num_classes=25, c1=32, c2=64, d1=128, shape=X_train[0].shape)"
   ]
  },
  {
   "cell_type": "code",
   "execution_count": 47,
   "id": "212f6b9f",
   "metadata": {
    "scrolled": true
   },
   "outputs": [
    {
     "name": "stdout",
     "output_type": "stream",
     "text": [
      "Original model training:\n",
      "Epoch 1/8\n",
      "438/438 [==============================] - 433s 986ms/step - loss: 0.9290 - accuracy: 0.7401\n",
      "Epoch 2/8\n",
      "438/438 [==============================] - 2335s 5s/step - loss: 0.1274 - accuracy: 0.9634\n",
      "Epoch 3/8\n",
      "438/438 [==============================] - 968s 2s/step - loss: 0.0807 - accuracy: 0.9739\n",
      "Epoch 4/8\n",
      "438/438 [==============================] - 500s 1s/step - loss: 0.0619 - accuracy: 0.9797\n",
      "Epoch 5/8\n",
      "438/438 [==============================] - 534s 1s/step - loss: 0.0459 - accuracy: 0.9864\n",
      "Epoch 6/8\n",
      "438/438 [==============================] - 567s 1s/step - loss: 0.0406 - accuracy: 0.9857\n",
      "Epoch 7/8\n",
      "438/438 [==============================] - 579s 1s/step - loss: 0.0332 - accuracy: 0.9897\n",
      "Epoch 8/8\n",
      "438/438 [==============================] - 562s 1s/step - loss: 0.0290 - accuracy: 0.9900\n"
     ]
    },
    {
     "data": {
      "text/plain": [
       "<keras.callbacks.History at 0x161678fd0>"
      ]
     },
     "execution_count": 47,
     "metadata": {},
     "output_type": "execute_result"
    }
   ],
   "source": [
    "print(\"Original model training:\")\n",
    "model.fit(X_train, y_train, batch_size=16, epochs=num_epochs)"
   ]
  },
  {
   "cell_type": "code",
   "execution_count": 58,
   "id": "e51c4c82",
   "metadata": {},
   "outputs": [
    {
     "name": "stdout",
     "output_type": "stream",
     "text": [
      "Original model evaluation:\n",
      "73/73 [==============================] - 22s 296ms/step - loss: 0.0784 - accuracy: 0.9696\n",
      "Loss del modelo  0.07841382920742035\n",
      "Accuracy del modelo  0.9695931673049927\n"
     ]
    }
   ],
   "source": [
    "print(\"Original model evaluation:\")\n",
    "loss, acc = model.evaluate(X_test, y_test)\n",
    "print(\"Loss del modelo \", loss)\n",
    "print(\"Accuracy del modelo \", acc)"
   ]
  },
  {
   "cell_type": "code",
   "execution_count": 49,
   "id": "f9895a75",
   "metadata": {},
   "outputs": [],
   "source": [
    "predictions = model.predict(X_test)"
   ]
  },
  {
   "cell_type": "code",
   "execution_count": 50,
   "id": "b27f54cc",
   "metadata": {},
   "outputs": [
    {
     "data": {
      "text/plain": [
       "22"
      ]
     },
     "execution_count": 50,
     "metadata": {},
     "output_type": "execute_result"
    }
   ],
   "source": [
    "np.argmax(predictions[0])"
   ]
  },
  {
   "cell_type": "code",
   "execution_count": 51,
   "id": "074cee83",
   "metadata": {},
   "outputs": [
    {
     "data": {
      "text/plain": [
       "array([0., 0., 0., 0., 0., 0., 0., 0., 0., 0., 0., 0., 0., 0., 0., 0., 0.,\n",
       "       0., 0., 0., 0., 0., 1., 0., 0.])"
      ]
     },
     "execution_count": 51,
     "metadata": {},
     "output_type": "execute_result"
    }
   ],
   "source": [
    "y_test[0]"
   ]
  },
  {
   "cell_type": "markdown",
   "id": "8a30d8dd",
   "metadata": {},
   "source": [
    "Miramos que la predicción para la primer imágen se define que sera el 22"
   ]
  },
  {
   "cell_type": "code",
   "execution_count": 52,
   "id": "d28ca4df",
   "metadata": {},
   "outputs": [
    {
     "name": "stderr",
     "output_type": "stream",
     "text": [
      "2022-05-25 13:32:30.465816: W tensorflow/python/util/util.cc:368] Sets are not currently considered sequences, but this may change in the future, so consider avoiding using them.\n"
     ]
    },
    {
     "name": "stdout",
     "output_type": "stream",
     "text": [
      "INFO:tensorflow:Assets written to: ./model_v2/assets\n"
     ]
    }
   ],
   "source": [
    "model.save('./model_v2')"
   ]
  },
  {
   "cell_type": "code",
   "execution_count": 55,
   "id": "279277db",
   "metadata": {},
   "outputs": [],
   "source": [
    "acc = [0.7401,0.9634,0.9739,0.9797,0.9864,0.9857,0.9897,0.9900]\n",
    "\n",
    "loss = [0.9290, 0.1274, 0.0807, 0.0619, 0.0459, 0.0406, 0.0332, 0.0290]\n",
    "\n",
    "epochs_range = range(8)"
   ]
  },
  {
   "cell_type": "code",
   "execution_count": 56,
   "id": "44d2f6a8",
   "metadata": {},
   "outputs": [
    {
     "data": {
      "image/png": "[encoded data removed]",
      "text/plain": [
       "<Figure size 576x576 with 2 Axes>"
      ]
     },
     "metadata": {
      "needs_background": "light"
     },
     "output_type": "display_data"
    }
   ],
   "source": [
    "plt.figure(figsize=(8, 8))\n",
    "plt.subplot(1, 2, 1)\n",
    "plt.plot(epochs_range, acc, label='Training Accuracy')\n",
    "plt.legend(loc='lower right')\n",
    "plt.title('Training Accuracy')\n",
    "\n",
    "plt.subplot(1, 2, 2)\n",
    "plt.plot(epochs_range, loss, label='Training Loss')\n",
    "plt.legend(loc='upper right')\n",
    "plt.title('Training Loss')\n",
    "plt.show()"
   ]
  },
  {
   "cell_type": "code",
   "execution_count": 61,
   "id": "9872903b",
   "metadata": {},
   "outputs": [],
   "source": [
    "images_resized_np = np.array(images_resized)"
   ]
  },
  {
   "cell_type": "code",
   "execution_count": 62,
   "id": "328b086e",
   "metadata": {},
   "outputs": [],
   "source": [
    "labels_np = np.array(labels)"
   ]
  },
  {
   "cell_type": "code",
   "execution_count": 64,
   "id": "49601163",
   "metadata": {},
   "outputs": [],
   "source": [
    "np.save('images_resized.npy', images_resized_np)\n",
    "# images_resized_np.save('images_resized.npy')\n",
    "# labels_np.save('labels_np.npy')"
   ]
  },
  {
   "cell_type": "code",
   "execution_count": 65,
   "id": "2a9957f0",
   "metadata": {},
   "outputs": [],
   "source": [
    "np.save('labels_np.npy', labels_np)"
   ]
  },
  {
   "cell_type": "code",
   "execution_count": 66,
   "id": "4553d076",
   "metadata": {},
   "outputs": [],
   "source": [
    "np.save('images_resized_clean.npy', X_test)\n",
    "np.save('labels_np_clean.npy', y_test)"
   ]
  },
  {
   "cell_type": "code",
   "execution_count": null,
   "id": "bfb71ae4",
   "metadata": {},
   "outputs": [],
   "source": []
  }
 ],
 "metadata": {
  "kernelspec": {
   "display_name": "Python 3 (ipykernel)",
   "language": "python",
   "name": "python3"
  },
  "language_info": {
   "codemirror_mode": {
    "name": "ipython",
    "version": 3
   },
   "file_extension": ".py",
   "mimetype": "text/x-python",
   "name": "python",
   "nbconvert_exporter": "python",
   "pygments_lexer": "ipython3",
   "version": "3.9.10"
  }
 },
 "nbformat": 4,
 "nbformat_minor": 5
}
